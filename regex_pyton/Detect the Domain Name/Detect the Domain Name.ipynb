{
 "cells": [
  {
   "cell_type": "code",
   "execution_count": null,
   "metadata": {},
   "outputs": [],
   "source": [
    "# Enter your code here. Read input from STDIN. Print output to STDOUT\n",
    "import re\n",
    "n_lines = int(input())\n",
    "\n",
    "lst = []\n",
    "pattern = r\"https?://(?:ww[w2]\\.)?([\\w-]+\\..+?)[^a-zA-Z0-9\\.\\-]\"\n",
    "\n",
    "for line in range(n_lines):\n",
    "    domains = re.findall(pattern, input())\n",
    "    lst.extend(domains)\n",
    "\n",
    "final = sorted(set(lst))\n",
    "\n",
    "print(';'.join(final))\n",
    "\n",
    "#r'\\bhttps?://(?:www\\.)?([\\w-]+\\..*?)(?<=\\.)(com|org|in|net|tv|me)\\b'\n",
    "#r'http(s?)://(?:www.)?(([a-zA-Z0-9_-]+\\.)+[a-zA-Z]+)'\n",
    "# r'\\bhttps?://(?:www.)?([^/\\b\"? >\\']{3,}?)[/\\b\"? >\\']'\n",
    "# r'(?:http://|https://)(?:www.|ww2.)?((?:[0-9a-zA-Z_\\.-]+)\\.[a-zA-Z]+)'\n",
    "# r\"https?://(?:ww[w2]\\.)?([\\w-]+\\..+?)[^a-zA-Z0-9\\.\\-]\"\n"
   ]
  }
 ],
 "metadata": {
  "kernelspec": {
   "display_name": "Python 3",
   "language": "python",
   "name": "python3"
  },
  "language_info": {
   "codemirror_mode": {
    "name": "ipython",
    "version": 3
   },
   "file_extension": ".py",
   "mimetype": "text/x-python",
   "name": "python",
   "nbconvert_exporter": "python",
   "pygments_lexer": "ipython3",
   "version": "3.7.6"
  }
 },
 "nbformat": 4,
 "nbformat_minor": 4
}
