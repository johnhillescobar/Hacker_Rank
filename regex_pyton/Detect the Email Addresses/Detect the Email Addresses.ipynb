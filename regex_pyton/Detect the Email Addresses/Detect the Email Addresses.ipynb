{
 "cells": [
  {
   "cell_type": "code",
   "execution_count": null,
   "metadata": {},
   "outputs": [],
   "source": [
    "# Enter your code here. Read input from STDIN. Print output to STDOUT\n",
    "import re\n",
    "no_rows = int(input())\n",
    "\n",
    "emails = []\n",
    "pattern = r'(?:\\w+\\.)?\\w+\\@(?:\\w+\\.)+\\w+'\n",
    "\n",
    "for row in range(no_rows):\n",
    "    email = re.findall(pattern, input())\n",
    "    emails.extend(email)\n",
    "  \n",
    "emails = sorted(set(emails))\n",
    "print(';'.join(emails))"
   ]
  }
 ],
 "metadata": {
  "kernelspec": {
   "display_name": "Python 3",
   "language": "python",
   "name": "python3"
  },
  "language_info": {
   "codemirror_mode": {
    "name": "ipython",
    "version": 3
   },
   "file_extension": ".py",
   "mimetype": "text/x-python",
   "name": "python",
   "nbconvert_exporter": "python",
   "pygments_lexer": "ipython3",
   "version": "3.7.6"
  }
 },
 "nbformat": 4,
 "nbformat_minor": 4
}
