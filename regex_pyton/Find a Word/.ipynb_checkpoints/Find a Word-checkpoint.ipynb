{
 "cells": [
  {
   "cell_type": "code",
   "execution_count": null,
   "metadata": {},
   "outputs": [],
   "source": [
    "# Enter your code here. Read input from STDIN. Print output to STDOUT\n",
    "import re\n",
    "\n",
    "no_sentences = int(input())\n",
    "\n",
    "sentences = [input() for _ in range(no_sentences)]\n",
    "\n",
    "no_words = int(input())\n",
    "\n",
    "for _ in range(no_words):\n",
    "    word = input()\n",
    "    pattern = r'\\b{}\\b'.format(word)\n",
    "    total_words = 0\n",
    "\n",
    "    for sentence in sentences:\n",
    "        finding = re.findall(pattern, sentence)\n",
    "        total_words += len(finding)\n",
    "\n",
    "    print(total_words)\n",
    "    \n",
    "    "
   ]
  }
 ],
 "metadata": {
  "kernelspec": {
   "display_name": "Python 3",
   "language": "python",
   "name": "python3"
  },
  "language_info": {
   "codemirror_mode": {
    "name": "ipython",
    "version": 3
   },
   "file_extension": ".py",
   "mimetype": "text/x-python",
   "name": "python",
   "nbconvert_exporter": "python",
   "pygments_lexer": "ipython3",
   "version": "3.7.6"
  }
 },
 "nbformat": 4,
 "nbformat_minor": 4
}
