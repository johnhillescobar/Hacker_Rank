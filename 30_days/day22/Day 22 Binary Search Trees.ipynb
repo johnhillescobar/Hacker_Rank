{
 "cells": [
  {
   "cell_type": "code",
   "execution_count": 1,
   "metadata": {},
   "outputs": [
    {
     "name": "stdout",
     "output_type": "stream",
     "text": [
      "7\n",
      "3\n",
      "5\n",
      "2\n",
      "1\n",
      "4\n",
      "6\n",
      "7\n",
      "3\n"
     ]
    }
   ],
   "source": [
    "# http://www.pythontutor.com/visualize.html#code=class%20Node%3A%0A%20%20%20%20def%20__init__%28self,data%29%3A%0A%20%20%20%20%20%20%20%20self.right%3Dself.left%3D\n",
    "class Node:\n",
    "    def __init__(self,data):\n",
    "        self.right=self.left=None\n",
    "        self.data = data\n",
    "class Solution:\n",
    "    def insert(self,root,data):\n",
    "        if root==None:\n",
    "            return Node(data)\n",
    "        else:\n",
    "            if data<=root.data:\n",
    "                cur=self.insert(root.left,data)\n",
    "                root.left=cur\n",
    "            else:\n",
    "                cur=self.insert(root.right,data)\n",
    "                root.right=cur\n",
    "        return root\n",
    "\n",
    "    def getHeight(self,root):\n",
    "        #Write your code here\n",
    "        if not root:\n",
    "            return -1\n",
    "        if not root.left and not root.right:\n",
    "            return 0\n",
    "\n",
    "        left_height = self.getHeight(root.left)\n",
    "        right_height = self.getHeight(root.right)\n",
    "        return max(left_height, right_height) +1\n",
    "\n",
    "T=int(input())\n",
    "myTree=Solution()\n",
    "root=None\n",
    "for i in range(T):\n",
    "    data=int(input())\n",
    "    root=myTree.insert(root,data)\n",
    "height=myTree.getHeight(root)\n",
    "print(height)       "
   ]
  },
  {
   "cell_type": "code",
   "execution_count": 3,
   "metadata": {},
   "outputs": [
    {
     "name": "stdout",
     "output_type": "stream",
     "text": [
      "7\n",
      "3\n",
      "5\n",
      "2\n",
      "1\n",
      "4\n",
      "6\n",
      "7\n",
      "3\n"
     ]
    }
   ],
   "source": [
    "# http://www.pythontutor.com/visualize.html#code=class%20Node%3A%0A%20%20%20%20def%20__init__%28self,data%29%3A%0A%20%20%20%20%20%20%20%20self.right%3Dself.left%3DNone%0A%20%20%20%20%20%20%20%20self.data%20%3D%20data%0Aclass%20Solution%3A%0A%20%20%20%20def%20insert%28self,root,data%29%3A%0A%20%20%20%20%20%20%20%20if%20root%3D%3DNone%3A%0A%20%20%20%20%20%20%20%20%20%20%20%20return%20Node%28data%29%0A%20%20%20%20%20%20%20%20else%3A%0A%20%20%20%20%20%20%20%20%20%20%20%20if%20data%3C%3Droot.data%3A%0A%20%20%20%20%20%20%20%20%20%20%20%20%20%20%20%20cur%3Dself.insert%28root.left,data%29%0A%20%20%20%20%20%20%20%20%20%20%20%20%20%20%20%20root.left%3Dcur%0A%20%20%20%20%20%20%20%20%20%20%20%20else%3A%0A%20%20%20%20%20%20%20%20%20%20%20%20%20%20%20%20cur%3Dself.insert%28root.right,data%29%0A%20%20%20%20%20%20%20%20%20%20%20%20%20%20%20%20root.right%3Dcur%0A%20%20%20%20%20%20%20%20return%20root%0A%0A%20%20%20%20def%20getHeight%28self,root%29%3A%0A%20%20%20%20%20%20%20%20%23Write%20your%20code%20here%0A%20%20%20%20%20%20%20%20lheight%20%3D%20rheight%20%3D%200%0A%0A%20%20%20%20%20%20%20%20if%20root.left%20is%20not%20None%3A%0A%20%20%20%20%20%20%20%20%20%20%20%20lheight%20%3D%201%20%2B%20Solution.getHeight%28self,%20root.left%29%0A%0A%20%20%20%20%20%20%20%20if%20root.right%20is%20not%20None%3A%0A%20%20%20%20%20%20%20%20%20%20%20%20rheight%20%3D%201%20%2B%20Solution.getHeight%28self,%20root.right%29%0A%0A%20%20%20%20%20%20%20%20if%20rheight%20%3E%20lheight%3A%0A%20%20%20%20%20%20%20%20%20%20%20%20return%20rheight%0A%0A%20%20%20%20%20%20%20%20return%20lheight%0A%0AT%3Dint%28input%28%29%29%0AmyTree%3DSolution%28%29%0Aroot%3DNone%0Afor%20i%20in%20range%28T%29%3A%0A%20%20%20%20data%3Dint%28input%28%29%29%0A%20%20%20%20root%3DmyTree.insert%28root,data%29%0Aheight%3DmyTree.getHeight%28root%29%0Aprint%28height%29%20%20%20%20%20%20%20%0A&cumulative=false&curInstr=217&heapPrimitives=nevernest&mode=display&origin=opt-frontend.js&py=3&rawInputLstJSON=%5B%227%22,%223%22,%225%22,%222%22,%221%22,%224%22,%226%22,%227%22%5D&textReferences=false\n",
    "class Node:\n",
    "    def __init__(self,data):\n",
    "        self.right=self.left=None\n",
    "        self.data = data\n",
    "class Solution:\n",
    "    def insert(self,root,data):\n",
    "        if root==None:\n",
    "            return Node(data)\n",
    "        else:\n",
    "            if data<=root.data:\n",
    "                cur=self.insert(root.left,data)\n",
    "                root.left=cur\n",
    "            else:\n",
    "                cur=self.insert(root.right,data)\n",
    "                root.right=cur\n",
    "        return root\n",
    "\n",
    "    def getHeight(self,root):\n",
    "        #Write your code here\n",
    "        lheight = rheight = 0\n",
    "\n",
    "        if root.left is not None:\n",
    "            lheight = 1 + Solution.getHeight(self, root.left)\n",
    "\n",
    "        if root.right is not None:\n",
    "            rheight = 1 + Solution.getHeight(self, root.right)\n",
    "\n",
    "        if rheight > lheight:\n",
    "            return rheight\n",
    "\n",
    "        return lheight\n",
    "\n",
    "T=int(input())\n",
    "myTree=Solution()\n",
    "root=None\n",
    "for i in range(T):\n",
    "    data=int(input())\n",
    "    root=myTree.insert(root,data)\n",
    "height=myTree.getHeight(root)\n",
    "print(height)       "
   ]
  },
  {
   "cell_type": "code",
   "execution_count": null,
   "metadata": {},
   "outputs": [],
   "source": []
  }
 ],
 "metadata": {
  "kernelspec": {
   "display_name": "Python 3",
   "language": "python",
   "name": "python3"
  },
  "language_info": {
   "codemirror_mode": {
    "name": "ipython",
    "version": 3
   },
   "file_extension": ".py",
   "mimetype": "text/x-python",
   "name": "python",
   "nbconvert_exporter": "python",
   "pygments_lexer": "ipython3",
   "version": "3.7.6"
  }
 },
 "nbformat": 4,
 "nbformat_minor": 4
}
