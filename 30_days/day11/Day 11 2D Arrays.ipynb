{
 "cells": [
  {
   "cell_type": "code",
   "execution_count": null,
   "metadata": {},
   "outputs": [],
   "source": [
    "#!/bin/python3\n",
    "\n",
    "import math\n",
    "import os\n",
    "import random\n",
    "import re\n",
    "import sys\n",
    "\n",
    "def hourglass_max_sum(arr):\n",
    "    \"\"\"\n",
    "    this function estimates the value of an hourglass sum\n",
    "    and then, select the highest sum to display\n",
    "    \"\"\"\n",
    "\n",
    "    highest_sum = -999\n",
    "\n",
    "    for row in range(4):\n",
    "        for column in range(4):\n",
    "\n",
    "            # calculate values on the top row\n",
    "            top_value = sum(arr[row][column:column+3])\n",
    "\n",
    "            # calculate values on the middle row\n",
    "            # using sum here will throw an error\n",
    "            middle_value = arr[row+1][column+1]\n",
    "\n",
    "            # calculate values on the top row\n",
    "            bottom_value = sum(arr[row+2][column:column+3])\n",
    "            \n",
    "            # add all the sums for each row\n",
    "            hourglass_sum = top_value + middle_value + bottom_value\n",
    "\n",
    "            highest_sum = max(hourglass_sum, highest_sum)\n",
    "    \n",
    "    return highest_sum\n",
    "\n",
    "if __name__ == '__main__':\n",
    "    arr = []\n",
    "\n",
    "    for _ in range(6):\n",
    "        arr.append(list(map(int, input().rstrip().split())))\n",
    "\n",
    "    print(hourglass_max_sum(arr))\n",
    "    "
   ]
  },
  {
   "cell_type": "code",
   "execution_count": null,
   "metadata": {},
   "outputs": [],
   "source": []
  }
 ],
 "metadata": {
  "kernelspec": {
   "display_name": "Python 3",
   "language": "python",
   "name": "python3"
  },
  "language_info": {
   "codemirror_mode": {
    "name": "ipython",
    "version": 3
   },
   "file_extension": ".py",
   "mimetype": "text/x-python",
   "name": "python",
   "nbconvert_exporter": "python",
   "pygments_lexer": "ipython3",
   "version": "3.7.6"
  }
 },
 "nbformat": 4,
 "nbformat_minor": 4
}
