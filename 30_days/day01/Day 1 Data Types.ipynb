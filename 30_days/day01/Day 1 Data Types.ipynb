{
 "cells": [
  {
   "cell_type": "code",
   "execution_count": null,
   "metadata": {},
   "outputs": [],
   "source": [
    "i = 4\n",
    "d = 4.0\n",
    "s = 'HackerRank '\n",
    "# Declare second integer, double, and String variables.\n",
    "second_int = int(input())\n",
    "double = float(input())\n",
    "string_var = str(input())\n",
    "\n",
    "# Read and save an integer, double, and String to your variables.\n",
    "sum_int = i + second_int\n",
    "sum_d = d + double\n",
    "sum_s = s + string_var\n",
    "\n",
    "\n",
    "# Print the sum of both integer variables on a new line.\n",
    "# Print the sum of the double variables on a new line.\n",
    "# Concatenate and print the String variables on a new line\n",
    "# The 's' variable above should be printed first.\n",
    "print(sum_int)\n",
    "print(sum_d)\n",
    "print(sum_s)"
   ]
  }
 ],
 "metadata": {
  "kernelspec": {
   "display_name": "Python 3",
   "language": "python",
   "name": "python3"
  },
  "language_info": {
   "codemirror_mode": {
    "name": "ipython",
    "version": 3
   },
   "file_extension": ".py",
   "mimetype": "text/x-python",
   "name": "python",
   "nbconvert_exporter": "python",
   "pygments_lexer": "ipython3",
   "version": "3.7.6"
  }
 },
 "nbformat": 4,
 "nbformat_minor": 4
}
