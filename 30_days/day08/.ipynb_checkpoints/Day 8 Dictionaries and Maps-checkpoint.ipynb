{
 "cells": [
  {
   "cell_type": "code",
   "execution_count": null,
   "metadata": {},
   "outputs": [],
   "source": [
    "if __name__ == '__main__':\n",
    "    \n",
    "    numbers = int(input())\n",
    "\n",
    "    info_lst = [input().split() for number in range(numbers)]\n",
    "\n",
    "    directory = {name: number  for name, number in info_lst}\n",
    "\n",
    "    while True:\n",
    "\n",
    "        try:\n",
    "\n",
    "            consult_name = input()\n",
    "\n",
    "            if consult_name in directory:\n",
    "\n",
    "                print('{}={}'.format(consult_name, directory[consult_name]))\n",
    "\n",
    "            else:\n",
    "\n",
    "                print('Not found')\n",
    "\n",
    "        except:\n",
    "\n",
    "            break\n",
    "\n",
    "\n",
    "\n"
   ]
  }
 ],
 "metadata": {
  "kernelspec": {
   "display_name": "Python 3",
   "language": "python",
   "name": "python3"
  },
  "language_info": {
   "codemirror_mode": {
    "name": "ipython",
    "version": 3
   },
   "file_extension": ".py",
   "mimetype": "text/x-python",
   "name": "python",
   "nbconvert_exporter": "python",
   "pygments_lexer": "ipython3",
   "version": "3.7.6"
  }
 },
 "nbformat": 4,
 "nbformat_minor": 4
}
