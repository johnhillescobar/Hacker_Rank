{
 "cells": [
  {
   "cell_type": "code",
   "execution_count": 8,
   "metadata": {},
   "outputs": [
    {
     "name": "stdout",
     "output_type": "stream",
     "text": [
      "4\n",
      "1\n",
      "3\n",
      "5\n",
      "2\n",
      "1 3 5 2 "
     ]
    }
   ],
   "source": [
    "# http://www.pythontutor.com/visualize.html#code=class%20Node%3A%0A%20%20%20%20def%20__init__%28self,data%29%3A%0A%20%20%20%20%20%20%20%20self.data%20%3D%20data%0A%20%20%20%20%20%20%20%20self.next%20%3D%20None%20%0Aclass%20Solution%3A%20%0A%20%20%20%20def%20display%28self,head%29%3A%0A%20%20%20%20%20%20%20%20current%20%3D%20head%0A%20%20%20%20%20%20%20%20while%20current%3A%0A%20%20%20%20%20%20%20%20%20%20%20%20print%28current.data,end%3D'%20'%29%0A%20%20%20%20%20%20%20%20%20%20%20%20current%20%3D%20current.next%0A%0A%20%20%20%20def%20insert%28self,head,data%29%3A%20%0A%20%20%20%20%20%20%20%20%23Complete%20this%20method%0A%20%20%20%20%20%20%20%20newNode%20%3D%20Node%28data%29%0A%20%20%20%20%20%20%20%20if%20not%20head%3A%0A%20%20%20%20%20%20%20%20%20%20%20%20return%20newNode%0A%20%20%20%20%20%20%20%20current%20%3D%20head%0A%20%20%20%20%20%20%20%20while%20current.next%3A%0A%20%20%20%20%20%20%20%20%20%20%20%20current%20%3D%20current.next%0A%0A%20%20%20%20%20%20%20%20current.next%20%3D%20newNode%0A%20%20%20%20%20%20%20%20return%20head%0A%0Amylist%3D%20Solution%28%29%0AT%3Dint%28input%28%29%29%0Ahead%3DNone%0Afor%20i%20in%20range%28T%29%3A%0A%20%20%20%20data%3Dint%28input%28%29%29%0A%20%20%20%20head%3Dmylist.insert%28head,data%29%20%20%20%20%0Amylist.display%28head%29%3B&cumulative=false&curInstr=86&heapPrimitives=nevernest&mode=display&origin=opt-frontend.js&py=3&rawInputLstJSON=%5B%224%22,%222%22,%223%22,%224%22,%221%22%5D&textReferences=false\n",
    "\n",
    "class Node:\n",
    "    def __init__(self,data):\n",
    "        self.data = data\n",
    "        self.next = None \n",
    "        \n",
    "class Solution: \n",
    "    def display(self,head):\n",
    "        current = head\n",
    "        while current:\n",
    "            print(current.data,end=' ')\n",
    "            current = current.next\n",
    "\n",
    "    def insert(self,head,data): \n",
    "        #Complete this method\n",
    "        newNode = Node(data)\n",
    "        if not head:\n",
    "            return newNode\n",
    "        current = head\n",
    "        while current.next:\n",
    "            current = current.next\n",
    "\n",
    "        current.next = newNode\n",
    "        return head\n",
    "\n",
    "mylist= Solution()\n",
    "T=int(input())\n",
    "head=None\n",
    "for i in range(T):\n",
    "    data=int(input())\n",
    "    head=mylist.insert(head,data)    \n",
    "mylist.display(head); \t  "
   ]
  },
  {
   "cell_type": "code",
   "execution_count": 6,
   "metadata": {},
   "outputs": [],
   "source": [
    "newNode = Node(5)"
   ]
  },
  {
   "cell_type": "code",
   "execution_count": 7,
   "metadata": {},
   "outputs": [
    {
     "name": "stdout",
     "output_type": "stream",
     "text": [
      "<__main__.Node object at 0x000001E68DBCAC48>\n"
     ]
    }
   ],
   "source": [
    "print(newNode)"
   ]
  },
  {
   "cell_type": "code",
   "execution_count": null,
   "metadata": {},
   "outputs": [],
   "source": []
  }
 ],
 "metadata": {
  "kernelspec": {
   "display_name": "Python 3",
   "language": "python",
   "name": "python3"
  },
  "language_info": {
   "codemirror_mode": {
    "name": "ipython",
    "version": 3
   },
   "file_extension": ".py",
   "mimetype": "text/x-python",
   "name": "python",
   "nbconvert_exporter": "python",
   "pygments_lexer": "ipython3",
   "version": "3.7.6"
  }
 },
 "nbformat": 4,
 "nbformat_minor": 4
}
