{
 "cells": [
  {
   "cell_type": "code",
   "execution_count": null,
   "metadata": {},
   "outputs": [],
   "source": [
    "# Enter your code here. Read input from STDIN. Print output to STDOUT\n",
    "date_received = list(map(int, input().strip().split(' ')))\n",
    "\n",
    "date_expected = list(map(int, input().strip().split(' ')))\n",
    "\n",
    "if date_received[2] > date_expected[2]:\n",
    "    print(10000)\n",
    "\n",
    "elif (date_received[2] == date_expected[2]) and (date_received[1] > date_expected[1]):\n",
    "    total_hackos = 500 * (date_received[1] - date_expected[1])\n",
    "    print(total_hackos)\n",
    "\n",
    "elif (date_received[2] == date_expected[2]) and \\\n",
    " (date_received[1] == date_expected[1]) and (date_received[0] > date_expected[0]):\n",
    "    total_hackos = 15 * (date_received[0] - date_expected[0])\n",
    "    print(total_hackos)\n",
    "\n",
    "else:\n",
    "    print(0)\n"
   ]
  }
 ],
 "metadata": {
  "kernelspec": {
   "display_name": "Python 3",
   "language": "python",
   "name": "python3"
  },
  "language_info": {
   "codemirror_mode": {
    "name": "ipython",
    "version": 3
   },
   "file_extension": ".py",
   "mimetype": "text/x-python",
   "name": "python",
   "nbconvert_exporter": "python",
   "pygments_lexer": "ipython3",
   "version": "3.7.6"
  }
 },
 "nbformat": 4,
 "nbformat_minor": 4
}
