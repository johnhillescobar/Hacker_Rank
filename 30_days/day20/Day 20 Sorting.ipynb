{
 "cells": [
  {
   "cell_type": "code",
   "execution_count": 1,
   "metadata": {},
   "outputs": [
    {
     "name": "stdout",
     "output_type": "stream",
     "text": [
      "3\n",
      "3 2 1\n",
      "Array is sorted in 3 swaps.\n",
      "First Element: 1\n",
      "Last Element: 3\n"
     ]
    }
   ],
   "source": [
    "# http://www.pythontutor.com/visualize.html#code=%0An%20%3D%20int%28input%28%29.strip%28%29%29%0Aa%20%3D%20list%28map%28int,%20input%28%29.strip%28%29.split%28'%20'%29%29%29%0A%23%20Write%20Your%20Code%20Here%0A%0Acount%3D0%0A%0Afor%20i%20in%20range%28n%29%3A%0A%20%20%20%20j%3D0%0A%20%20%20%20while%20j%3Cn-1%3A%0A%20%20%20%20%20%20%20%20if%20a%5Bj%5D%3Ea%5Bj%2B1%5D%3A%0A%20%20%20%20%20%20%20%20%20%20%20%20a%5Bj%5D,a%5Bj%2B1%5D%3Da%5Bj%2B1%5D,a%5Bj%5D%0A%20%20%20%20%20%20%20%20%20%20%20%20count%2B%3D1%0A%20%20%20%20%20%20%20%20j%2B%3D1%0A%0Aprint%28'Array%20is%20sorted%20in%20%7B%7D%20swaps.'.format%28count%29%29%0Aprint%28'First%20Element%3A%20%7B%7D'.format%28a%5B0%5D%29%29%0Aprint%28'Last%20Element%3A%20%7B%7D'.format%28a%5Bn-1%5D%29%29%0A&cumulative=false&curInstr=40&heapPrimitives=nevernest&mode=display&origin=opt-frontend.js&py=3&rawInputLstJSON=%5B%223%22,%223%202%201%22%5D&textReferences=false\n",
    "n = int(input().strip())\n",
    "a = list(map(int, input().strip().split(' ')))\n",
    "# Write Your Code Here\n",
    "\n",
    "count=0\n",
    "\n",
    "for i in range(n):\n",
    "    j=0\n",
    "    while j<n-1:\n",
    "        if a[j]>a[j+1]:\n",
    "            a[j],a[j+1]=a[j+1],a[j]\n",
    "            count+=1\n",
    "        j+=1\n",
    "\n",
    "print('Array is sorted in {} swaps.'.format(count))\n",
    "print('First Element: {}'.format(a[0]))\n",
    "print('Last Element: {}'.format(a[n-1]))\n"
   ]
  },
  {
   "cell_type": "code",
   "execution_count": 2,
   "metadata": {},
   "outputs": [
    {
     "name": "stdout",
     "output_type": "stream",
     "text": [
      "3\n",
      "3 2 1\n",
      "Array is sorted in 3 swaps.\n",
      "First Element: 1\n",
      "Last Element: 3\n"
     ]
    }
   ],
   "source": [
    "# http://www.pythontutor.com/visualize.html#code=%0An%3Dint%28input%28%29%29%0Aa%3Dlist%28map%28int,input%28%29.split%28%29%29%29%0Acnt%3D0%0Afor%20i%20in%20range%28n-1%29%3A%0A%20%20%20%20for%20j%20in%20range%28n-i-1%29%3A%0A%20%20%20%20%20%20%20%20if%20a%5Bj%5D%3Ea%5Bj%2B1%5D%3A%0A%20%20%20%20%20%20%20%20%20%20%20%20a%5Bj%5D,a%5Bj%2B1%5D%3Da%5Bj%2B1%5D,a%5Bj%5D%0A%20%20%20%20%20%20%20%20%20%20%20%20cnt%2B%3D1%0Aprint%28%22Array%20is%20sorted%20in%20%7B%7D%20swaps.%22.format%28cnt%29%29%0Aprint%28%22First%20Element%3A%20%7B%7D%22.format%28a%5B0%5D%29%29%0Aprint%28%22Last%20Element%3A%20%7B%7D%22.format%28a%5B-1%5D%29%29&cumulative=false&curInstr=23&heapPrimitives=nevernest&mode=display&origin=opt-frontend.js&py=3&rawInputLstJSON=%5B%223%22,%223%202%201%22%5D&textReferences=false\n",
    "n=int(input())\n",
    "a=list(map(int,input().split()))\n",
    "cnt=0\n",
    "for i in range(n-1):\n",
    "    for j in range(n-i-1):\n",
    "        if a[j]>a[j+1]:\n",
    "            a[j],a[j+1]=a[j+1],a[j]\n",
    "            cnt+=1\n",
    "print(\"Array is sorted in {} swaps.\".format(cnt))\n",
    "print(\"First Element: {}\".format(a[0]))\n",
    "print(\"Last Element: {}\".format(a[-1]))\n"
   ]
  },
  {
   "cell_type": "code",
   "execution_count": null,
   "metadata": {},
   "outputs": [],
   "source": []
  }
 ],
 "metadata": {
  "kernelspec": {
   "display_name": "Python 3",
   "language": "python",
   "name": "python3"
  },
  "language_info": {
   "codemirror_mode": {
    "name": "ipython",
    "version": 3
   },
   "file_extension": ".py",
   "mimetype": "text/x-python",
   "name": "python",
   "nbconvert_exporter": "python",
   "pygments_lexer": "ipython3",
   "version": "3.7.6"
  }
 },
 "nbformat": 4,
 "nbformat_minor": 4
}
