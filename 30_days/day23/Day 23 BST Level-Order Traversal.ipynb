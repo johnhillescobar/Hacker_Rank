{
 "cells": [
  {
   "cell_type": "code",
   "execution_count": null,
   "metadata": {},
   "outputs": [],
   "source": [
    "# http://www.pythontutor.com/visualize.html#code=%0Aclass%20Node%3A%0A%20%20%20%20def%20__init__%28self,data%29%3A%0A%20%20%20%20%20%20%20%20self.right%3Dself.left%3DNone%0A%20%20%20%20%20%20%20%20self.data%20%3D%20data%0Aclass%20Solution%3A%0A%20%20%20%20def%20insert%28self,root,data%29%3A%0A%20%20%20%20%20%20%20%20if%20root%3D%3DNone%3A%0A%20%20%20%20%20%20%20%20%20%20%20%20return%20Node%28data%29%0A%20%20%20%20%20%20%20%20else%3A%0A%20%20%20%20%20%20%20%20%20%20%20%20if%20data%3C%3Droot.data%3A%0A%20%20%20%20%20%20%20%20%20%20%20%20%20%20%20%20cur%3Dself.insert%28root.left,data%29%0A%20%20%20%20%20%20%20%20%20%20%20%20%20%20%20%20root.left%3Dcur%0A%20%20%20%20%20%20%20%20%20%20%20%20else%3A%0A%20%20%20%20%20%20%20%20%20%20%20%20%20%20%20%20cur%3Dself.insert%28root.right,data%29%0A%20%20%20%20%20%20%20%20%20%20%20%20%20%20%20%20root.right%3Dcur%0A%20%20%20%20%20%20%20%20return%20root%0A%0A%20%20%20%20def%20levelOrder%28self,root%29%3A%0A%20%20%20%20%20%20%20%20%23Write%20your%20code%20here%0A%20%20%20%20%20%20%20%20if%20root%20is%20None%3A%0A%20%20%20%20%20%20%20%20%20%20%20%20return%0A%0A%20%20%20%20%20%20%20%20queue%20%3D%20%5B%5D%0A%20%20%20%20%20%20%20%20queue.append%28root%29%0A%0A%20%20%20%20%20%20%20%20while%20len%28queue%29%20%3E%200%3A%0A%20%20%20%20%20%20%20%20%20%20%20%20node%20%3D%20queue.pop%280%29%0A%20%20%20%20%20%20%20%20%20%20%20%20print%28node.data,%20end%3D%20'%20'%29%0A%0A%20%20%20%20%20%20%20%20%20%20%20%20if%20node.left%20is%20not%20None%3A%0A%20%20%20%20%20%20%20%20%20%20%20%20%20%20%20%20queue.append%28node.left%29%0A%20%20%20%20%20%20%20%20%20%20%20%20%0A%20%20%20%20%20%20%20%20%20%20%20%20if%20node.right%20is%20not%20None%3A%0A%20%20%20%20%20%20%20%20%20%20%20%20%20%20%20%20queue.append%28node.right%29%0A%0A%20%20%20%20%20%20%20%20return%0A%0A%0AT%3Dint%28input%28%29%29%0AmyTree%3DSolution%28%29%0Aroot%3DNone%0Afor%20i%20in%20range%28T%29%3A%0A%20%20%20%20data%3Dint%28input%28%29%29%0A%20%20%20%20root%3DmyTree.insert%28root,data%29%0AmyTree.levelOrder%28root%29%0A&cumulative=false&curInstr=78&heapPrimitives=nevernest&mode=display&origin=opt-frontend.js&py=3&rawInputLstJSON=%5B%223%22,%223%22,%225%22,%222%22%5D&textReferences=false\n",
    "import sys\n",
    "\n",
    "class Node:\n",
    "    def __init__(self,data):\n",
    "        self.right=self.left=None\n",
    "        self.data = data\n",
    "class Solution:\n",
    "    def insert(self,root,data):\n",
    "        if root==None:\n",
    "            return Node(data)\n",
    "        else:\n",
    "            if data<=root.data:\n",
    "                cur=self.insert(root.left,data)\n",
    "                root.left=cur\n",
    "            else:\n",
    "                cur=self.insert(root.right,data)\n",
    "                root.right=cur\n",
    "        return root\n",
    "\n",
    "    def levelOrder(self,root):\n",
    "        #Write your code here\n",
    "        if root is None:\n",
    "            return\n",
    "\n",
    "        queue = []\n",
    "        queue.append(root)\n",
    "\n",
    "        while len(queue) > 0:\n",
    "            node = queue.pop(0)\n",
    "            print(node.data, end= ' ')\n",
    "\n",
    "            if node.left is not None:\n",
    "                queue.append(node.left)\n",
    "            \n",
    "            if node.right is not None:\n",
    "                queue.append(node.right)\n",
    "\n",
    "        return\n",
    "\n",
    "\n",
    "T=int(input())\n",
    "myTree=Solution()\n",
    "root=None\n",
    "for i in range(T):\n",
    "    data=int(input())\n",
    "    root=myTree.insert(root,data)\n",
    "myTree.levelOrder(root)\n",
    "\n"
   ]
  },
  {
   "cell_type": "code",
   "execution_count": null,
   "metadata": {},
   "outputs": [],
   "source": []
  }
 ],
 "metadata": {
  "kernelspec": {
   "display_name": "Python 3",
   "language": "python",
   "name": "python3"
  },
  "language_info": {
   "codemirror_mode": {
    "name": "ipython",
    "version": 3
   },
   "file_extension": ".py",
   "mimetype": "text/x-python",
   "name": "python",
   "nbconvert_exporter": "python",
   "pygments_lexer": "ipython3",
   "version": "3.7.6"
  }
 },
 "nbformat": 4,
 "nbformat_minor": 4
}
